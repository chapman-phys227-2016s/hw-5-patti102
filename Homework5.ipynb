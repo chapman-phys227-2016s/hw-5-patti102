{
 "cells": [
  {
   "cell_type": "code",
   "execution_count": 1,
   "metadata": {
    "collapsed": false
   },
   "outputs": [],
   "source": [
    "import interpolate_exp_cos as p1\n",
    "import sin_derriv as p2\n",
    "import integrate_exp as p3\n",
    "import diff_functions as p4"
   ]
  },
  {
   "cell_type": "markdown",
   "metadata": {},
   "source": [
    "# Homework 5\n",
    "\n",
    "### Taylor Patti\n",
    "### 3/17/2016"
   ]
  },
  {
   "cell_type": "markdown",
   "metadata": {},
   "source": [
    "## interpolate_exp_cos\n",
    "\n",
    "Returns the approximated value and the error for the function for interpolations of various step sizes.\n",
    "\n",
    "Step Size, Step Size Error for 3, 5, 9, 17"
   ]
  },
  {
   "cell_type": "code",
   "execution_count": null,
   "metadata": {
    "collapsed": false
   },
   "outputs": [],
   "source": [
    "print p1.exp_cos_func(2)"
   ]
  },
  {
   "cell_type": "code",
   "execution_count": null,
   "metadata": {
    "collapsed": false
   },
   "outputs": [],
   "source": [
    "print p1.exp_cos_func(4)"
   ]
  },
  {
   "cell_type": "code",
   "execution_count": null,
   "metadata": {
    "collapsed": false
   },
   "outputs": [],
   "source": [
    "print p1.exp_cos_func(8)"
   ]
  },
  {
   "cell_type": "code",
   "execution_count": null,
   "metadata": {
    "collapsed": false
   },
   "outputs": [],
   "source": [
    "print p1.exp_cos_func(16)"
   ]
  },
  {
   "cell_type": "markdown",
   "metadata": {},
   "source": [
    "## sin_derriv\n",
    "\n",
    "Plots the reciprocal of the sin function argument with an interpolating function. The mesh size is chosen such that larger meshes are of negligible benefit. This is displayed with epsilon equal to 0.2, but this can be changed in the argument value easily and the mesh size will also be adjusted automatically."
   ]
  },
  {
   "cell_type": "code",
   "execution_count": null,
   "metadata": {
    "collapsed": false
   },
   "outputs": [],
   "source": [
    "p2.graph()"
   ]
  },
  {
   "cell_type": "markdown",
   "metadata": {
    "collapsed": true
   },
   "source": [
    "## integrate_exp\n",
    "\n",
    "Illustrates the even nature of the gaussian function, takes advantage of this fact to simplify the integral without loss of accuracy or rigor, and shows the relative value and error for values with various mesh sizes and interval lengths."
   ]
  },
  {
   "cell_type": "code",
   "execution_count": null,
   "metadata": {
    "collapsed": false
   },
   "outputs": [],
   "source": [
    "x = p3.np.linspace(-10, 10, 100)\n",
    "f = p3.exp_func(x)\n",
    "p3.plotter(f, x)"
   ]
  },
  {
   "cell_type": "code",
   "execution_count": null,
   "metadata": {
    "collapsed": false
   },
   "outputs": [],
   "source": [
    "p3.tabler()"
   ]
  },
  {
   "cell_type": "markdown",
   "metadata": {
    "collapsed": true
   },
   "source": [
    "## diff_functions\n",
    "\n",
    "Compares the plots of the derivatives of functions taken by a vectorized differentiating function and those calculated analytically.\n",
    "\n",
    "These plots were labled such that they match the book definitions for f, g, and h. These plots were generated with the differentiated mesh of n = 1000, plotted in the blue, continuous line, and with n = 10 for the descrete points, plotted in black dots, for the analytic function. For well behaved functions like f and h, we see that a mesh fineness of about 1/1000 is accurate enough to provide for fit which is visually indestinguishable at these levels. However, for more wild functions, such as the ever increasing oscillation of the g function, no number of points will be enough. As x grows, g, and its derrivative, get crazy."
   ]
  },
  {
   "cell_type": "code",
   "execution_count": 2,
   "metadata": {
    "collapsed": false
   },
   "outputs": [],
   "source": [
    "p4.graph(p4.f, p4.f_prime, 1 / float(1000), 1, 10)"
   ]
  },
  {
   "cell_type": "code",
   "execution_count": 3,
   "metadata": {
    "collapsed": false
   },
   "outputs": [],
   "source": [
    "p4.graph(p4.g, p4.g_prime, 1 / float(1000), 1, 10)"
   ]
  },
  {
   "cell_type": "code",
   "execution_count": 4,
   "metadata": {
    "collapsed": false
   },
   "outputs": [],
   "source": [
    "p4.graph(p4.h, p4.h_prime, 1 / float(1000), 1, 10)"
   ]
  },
  {
   "cell_type": "code",
   "execution_count": null,
   "metadata": {
    "collapsed": true
   },
   "outputs": [],
   "source": []
  }
 ],
 "metadata": {
  "kernelspec": {
   "display_name": "Python 2 (SageMath)",
   "language": "python",
   "name": "python2"
  },
  "language_info": {
   "codemirror_mode": {
    "name": "ipython",
    "version": 2
   },
   "file_extension": ".py",
   "mimetype": "text/x-python",
   "name": "python",
   "nbconvert_exporter": "python",
   "pygments_lexer": "ipython2",
   "version": "2.7.10"
  },
  "name": "Homework5.ipynb"
 },
 "nbformat": 4,
 "nbformat_minor": 0
}
